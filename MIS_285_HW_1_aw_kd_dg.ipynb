{
  "nbformat": 4,
  "nbformat_minor": 0,
  "metadata": {
    "colab": {
      "provenance": [],
      "gpuType": "T4",
      "include_colab_link": true
    },
    "kernelspec": {
      "name": "python3",
      "display_name": "Python 3"
    },
    "language_info": {
      "name": "python"
    },
    "widgets": {
      "application/vnd.jupyter.widget-state+json": {
        "6880b6ca04c446ac8d630f53b627bd22": {
          "model_module": "@jupyter-widgets/controls",
          "model_name": "HBoxModel",
          "model_module_version": "1.5.0",
          "state": {
            "_dom_classes": [],
            "_model_module": "@jupyter-widgets/controls",
            "_model_module_version": "1.5.0",
            "_model_name": "HBoxModel",
            "_view_count": null,
            "_view_module": "@jupyter-widgets/controls",
            "_view_module_version": "1.5.0",
            "_view_name": "HBoxView",
            "box_style": "",
            "children": [
              "IPY_MODEL_5c1045bbb1ff4f65b17d4b894f8fc48e",
              "IPY_MODEL_6b13d32d794d4835b9dfc7ac7656338c",
              "IPY_MODEL_f14f1c2fefdc48e2a2d3e5561b6b57ca"
            ],
            "layout": "IPY_MODEL_b9ab02acad3c4e92aff690d72ca95b7b"
          }
        },
        "5c1045bbb1ff4f65b17d4b894f8fc48e": {
          "model_module": "@jupyter-widgets/controls",
          "model_name": "HTMLModel",
          "model_module_version": "1.5.0",
          "state": {
            "_dom_classes": [],
            "_model_module": "@jupyter-widgets/controls",
            "_model_module_version": "1.5.0",
            "_model_name": "HTMLModel",
            "_view_count": null,
            "_view_module": "@jupyter-widgets/controls",
            "_view_module_version": "1.5.0",
            "_view_name": "HTMLView",
            "description": "",
            "description_tooltip": null,
            "layout": "IPY_MODEL_88094e52a0374927a657ee8a1d79df11",
            "placeholder": "​",
            "style": "IPY_MODEL_d38a4ee364b84dd6b40c3bca5c1d6ea3",
            "value": "100%"
          }
        },
        "6b13d32d794d4835b9dfc7ac7656338c": {
          "model_module": "@jupyter-widgets/controls",
          "model_name": "FloatProgressModel",
          "model_module_version": "1.5.0",
          "state": {
            "_dom_classes": [],
            "_model_module": "@jupyter-widgets/controls",
            "_model_module_version": "1.5.0",
            "_model_name": "FloatProgressModel",
            "_view_count": null,
            "_view_module": "@jupyter-widgets/controls",
            "_view_module_version": "1.5.0",
            "_view_name": "ProgressView",
            "bar_style": "success",
            "description": "",
            "description_tooltip": null,
            "layout": "IPY_MODEL_1ea2aa2a5a1c4917ab9287a98f8c94c9",
            "max": 5000,
            "min": 0,
            "orientation": "horizontal",
            "style": "IPY_MODEL_fcf7b86ee5364fa388cd40db3e07f166",
            "value": 5000
          }
        },
        "f14f1c2fefdc48e2a2d3e5561b6b57ca": {
          "model_module": "@jupyter-widgets/controls",
          "model_name": "HTMLModel",
          "model_module_version": "1.5.0",
          "state": {
            "_dom_classes": [],
            "_model_module": "@jupyter-widgets/controls",
            "_model_module_version": "1.5.0",
            "_model_name": "HTMLModel",
            "_view_count": null,
            "_view_module": "@jupyter-widgets/controls",
            "_view_module_version": "1.5.0",
            "_view_name": "HTMLView",
            "description": "",
            "description_tooltip": null,
            "layout": "IPY_MODEL_ab5a74fdc1204ce7b56c5ea9a955b309",
            "placeholder": "​",
            "style": "IPY_MODEL_e579d754b5ee4b1b8e7f7caca5aeab59",
            "value": " 5000/5000 [02:01&lt;00:00, 44.86it/s]"
          }
        },
        "b9ab02acad3c4e92aff690d72ca95b7b": {
          "model_module": "@jupyter-widgets/base",
          "model_name": "LayoutModel",
          "model_module_version": "1.2.0",
          "state": {
            "_model_module": "@jupyter-widgets/base",
            "_model_module_version": "1.2.0",
            "_model_name": "LayoutModel",
            "_view_count": null,
            "_view_module": "@jupyter-widgets/base",
            "_view_module_version": "1.2.0",
            "_view_name": "LayoutView",
            "align_content": null,
            "align_items": null,
            "align_self": null,
            "border": null,
            "bottom": null,
            "display": null,
            "flex": null,
            "flex_flow": null,
            "grid_area": null,
            "grid_auto_columns": null,
            "grid_auto_flow": null,
            "grid_auto_rows": null,
            "grid_column": null,
            "grid_gap": null,
            "grid_row": null,
            "grid_template_areas": null,
            "grid_template_columns": null,
            "grid_template_rows": null,
            "height": null,
            "justify_content": null,
            "justify_items": null,
            "left": null,
            "margin": null,
            "max_height": null,
            "max_width": null,
            "min_height": null,
            "min_width": null,
            "object_fit": null,
            "object_position": null,
            "order": null,
            "overflow": null,
            "overflow_x": null,
            "overflow_y": null,
            "padding": null,
            "right": null,
            "top": null,
            "visibility": null,
            "width": null
          }
        },
        "88094e52a0374927a657ee8a1d79df11": {
          "model_module": "@jupyter-widgets/base",
          "model_name": "LayoutModel",
          "model_module_version": "1.2.0",
          "state": {
            "_model_module": "@jupyter-widgets/base",
            "_model_module_version": "1.2.0",
            "_model_name": "LayoutModel",
            "_view_count": null,
            "_view_module": "@jupyter-widgets/base",
            "_view_module_version": "1.2.0",
            "_view_name": "LayoutView",
            "align_content": null,
            "align_items": null,
            "align_self": null,
            "border": null,
            "bottom": null,
            "display": null,
            "flex": null,
            "flex_flow": null,
            "grid_area": null,
            "grid_auto_columns": null,
            "grid_auto_flow": null,
            "grid_auto_rows": null,
            "grid_column": null,
            "grid_gap": null,
            "grid_row": null,
            "grid_template_areas": null,
            "grid_template_columns": null,
            "grid_template_rows": null,
            "height": null,
            "justify_content": null,
            "justify_items": null,
            "left": null,
            "margin": null,
            "max_height": null,
            "max_width": null,
            "min_height": null,
            "min_width": null,
            "object_fit": null,
            "object_position": null,
            "order": null,
            "overflow": null,
            "overflow_x": null,
            "overflow_y": null,
            "padding": null,
            "right": null,
            "top": null,
            "visibility": null,
            "width": null
          }
        },
        "d38a4ee364b84dd6b40c3bca5c1d6ea3": {
          "model_module": "@jupyter-widgets/controls",
          "model_name": "DescriptionStyleModel",
          "model_module_version": "1.5.0",
          "state": {
            "_model_module": "@jupyter-widgets/controls",
            "_model_module_version": "1.5.0",
            "_model_name": "DescriptionStyleModel",
            "_view_count": null,
            "_view_module": "@jupyter-widgets/base",
            "_view_module_version": "1.2.0",
            "_view_name": "StyleView",
            "description_width": ""
          }
        },
        "1ea2aa2a5a1c4917ab9287a98f8c94c9": {
          "model_module": "@jupyter-widgets/base",
          "model_name": "LayoutModel",
          "model_module_version": "1.2.0",
          "state": {
            "_model_module": "@jupyter-widgets/base",
            "_model_module_version": "1.2.0",
            "_model_name": "LayoutModel",
            "_view_count": null,
            "_view_module": "@jupyter-widgets/base",
            "_view_module_version": "1.2.0",
            "_view_name": "LayoutView",
            "align_content": null,
            "align_items": null,
            "align_self": null,
            "border": null,
            "bottom": null,
            "display": null,
            "flex": null,
            "flex_flow": null,
            "grid_area": null,
            "grid_auto_columns": null,
            "grid_auto_flow": null,
            "grid_auto_rows": null,
            "grid_column": null,
            "grid_gap": null,
            "grid_row": null,
            "grid_template_areas": null,
            "grid_template_columns": null,
            "grid_template_rows": null,
            "height": null,
            "justify_content": null,
            "justify_items": null,
            "left": null,
            "margin": null,
            "max_height": null,
            "max_width": null,
            "min_height": null,
            "min_width": null,
            "object_fit": null,
            "object_position": null,
            "order": null,
            "overflow": null,
            "overflow_x": null,
            "overflow_y": null,
            "padding": null,
            "right": null,
            "top": null,
            "visibility": null,
            "width": null
          }
        },
        "fcf7b86ee5364fa388cd40db3e07f166": {
          "model_module": "@jupyter-widgets/controls",
          "model_name": "ProgressStyleModel",
          "model_module_version": "1.5.0",
          "state": {
            "_model_module": "@jupyter-widgets/controls",
            "_model_module_version": "1.5.0",
            "_model_name": "ProgressStyleModel",
            "_view_count": null,
            "_view_module": "@jupyter-widgets/base",
            "_view_module_version": "1.2.0",
            "_view_name": "StyleView",
            "bar_color": null,
            "description_width": ""
          }
        },
        "ab5a74fdc1204ce7b56c5ea9a955b309": {
          "model_module": "@jupyter-widgets/base",
          "model_name": "LayoutModel",
          "model_module_version": "1.2.0",
          "state": {
            "_model_module": "@jupyter-widgets/base",
            "_model_module_version": "1.2.0",
            "_model_name": "LayoutModel",
            "_view_count": null,
            "_view_module": "@jupyter-widgets/base",
            "_view_module_version": "1.2.0",
            "_view_name": "LayoutView",
            "align_content": null,
            "align_items": null,
            "align_self": null,
            "border": null,
            "bottom": null,
            "display": null,
            "flex": null,
            "flex_flow": null,
            "grid_area": null,
            "grid_auto_columns": null,
            "grid_auto_flow": null,
            "grid_auto_rows": null,
            "grid_column": null,
            "grid_gap": null,
            "grid_row": null,
            "grid_template_areas": null,
            "grid_template_columns": null,
            "grid_template_rows": null,
            "height": null,
            "justify_content": null,
            "justify_items": null,
            "left": null,
            "margin": null,
            "max_height": null,
            "max_width": null,
            "min_height": null,
            "min_width": null,
            "object_fit": null,
            "object_position": null,
            "order": null,
            "overflow": null,
            "overflow_x": null,
            "overflow_y": null,
            "padding": null,
            "right": null,
            "top": null,
            "visibility": null,
            "width": null
          }
        },
        "e579d754b5ee4b1b8e7f7caca5aeab59": {
          "model_module": "@jupyter-widgets/controls",
          "model_name": "DescriptionStyleModel",
          "model_module_version": "1.5.0",
          "state": {
            "_model_module": "@jupyter-widgets/controls",
            "_model_module_version": "1.5.0",
            "_model_name": "DescriptionStyleModel",
            "_view_count": null,
            "_view_module": "@jupyter-widgets/base",
            "_view_module_version": "1.2.0",
            "_view_name": "StyleView",
            "description_width": ""
          }
        },
        "4cf5fcce00334d1ebd2ea5dbff0df597": {
          "model_module": "@jupyter-widgets/controls",
          "model_name": "HBoxModel",
          "model_module_version": "1.5.0",
          "state": {
            "_dom_classes": [],
            "_model_module": "@jupyter-widgets/controls",
            "_model_module_version": "1.5.0",
            "_model_name": "HBoxModel",
            "_view_count": null,
            "_view_module": "@jupyter-widgets/controls",
            "_view_module_version": "1.5.0",
            "_view_name": "HBoxView",
            "box_style": "",
            "children": [
              "IPY_MODEL_bc103c1d09394ccfa2953291175530c3",
              "IPY_MODEL_c2bb748bf4cb438bbd98aa7ba2af1db3",
              "IPY_MODEL_debb9e2b05b041fd810806c54cffc149"
            ],
            "layout": "IPY_MODEL_27eeaecb7631435a9fbe0e903f49680f"
          }
        },
        "bc103c1d09394ccfa2953291175530c3": {
          "model_module": "@jupyter-widgets/controls",
          "model_name": "HTMLModel",
          "model_module_version": "1.5.0",
          "state": {
            "_dom_classes": [],
            "_model_module": "@jupyter-widgets/controls",
            "_model_module_version": "1.5.0",
            "_model_name": "HTMLModel",
            "_view_count": null,
            "_view_module": "@jupyter-widgets/controls",
            "_view_module_version": "1.5.0",
            "_view_name": "HTMLView",
            "description": "",
            "description_tooltip": null,
            "layout": "IPY_MODEL_17b0987b9404487786a4b2d93c7ad464",
            "placeholder": "​",
            "style": "IPY_MODEL_6af4acd84b9b472cada5cb45c1ed3b88",
            "value": "100%"
          }
        },
        "c2bb748bf4cb438bbd98aa7ba2af1db3": {
          "model_module": "@jupyter-widgets/controls",
          "model_name": "FloatProgressModel",
          "model_module_version": "1.5.0",
          "state": {
            "_dom_classes": [],
            "_model_module": "@jupyter-widgets/controls",
            "_model_module_version": "1.5.0",
            "_model_name": "FloatProgressModel",
            "_view_count": null,
            "_view_module": "@jupyter-widgets/controls",
            "_view_module_version": "1.5.0",
            "_view_name": "ProgressView",
            "bar_style": "success",
            "description": "",
            "description_tooltip": null,
            "layout": "IPY_MODEL_1076de72466c4d3ab739509538ae76cf",
            "max": 5000,
            "min": 0,
            "orientation": "horizontal",
            "style": "IPY_MODEL_1ca217a2d28e44518d8279d2c1311537",
            "value": 5000
          }
        },
        "debb9e2b05b041fd810806c54cffc149": {
          "model_module": "@jupyter-widgets/controls",
          "model_name": "HTMLModel",
          "model_module_version": "1.5.0",
          "state": {
            "_dom_classes": [],
            "_model_module": "@jupyter-widgets/controls",
            "_model_module_version": "1.5.0",
            "_model_name": "HTMLModel",
            "_view_count": null,
            "_view_module": "@jupyter-widgets/controls",
            "_view_module_version": "1.5.0",
            "_view_name": "HTMLView",
            "description": "",
            "description_tooltip": null,
            "layout": "IPY_MODEL_4e0a8ee7e22446738795cc1f47d5fea0",
            "placeholder": "​",
            "style": "IPY_MODEL_7f23f84772884eecad602cd6ee7dc478",
            "value": " 5000/5000 [02:17&lt;00:00, 31.92it/s]"
          }
        },
        "27eeaecb7631435a9fbe0e903f49680f": {
          "model_module": "@jupyter-widgets/base",
          "model_name": "LayoutModel",
          "model_module_version": "1.2.0",
          "state": {
            "_model_module": "@jupyter-widgets/base",
            "_model_module_version": "1.2.0",
            "_model_name": "LayoutModel",
            "_view_count": null,
            "_view_module": "@jupyter-widgets/base",
            "_view_module_version": "1.2.0",
            "_view_name": "LayoutView",
            "align_content": null,
            "align_items": null,
            "align_self": null,
            "border": null,
            "bottom": null,
            "display": null,
            "flex": null,
            "flex_flow": null,
            "grid_area": null,
            "grid_auto_columns": null,
            "grid_auto_flow": null,
            "grid_auto_rows": null,
            "grid_column": null,
            "grid_gap": null,
            "grid_row": null,
            "grid_template_areas": null,
            "grid_template_columns": null,
            "grid_template_rows": null,
            "height": null,
            "justify_content": null,
            "justify_items": null,
            "left": null,
            "margin": null,
            "max_height": null,
            "max_width": null,
            "min_height": null,
            "min_width": null,
            "object_fit": null,
            "object_position": null,
            "order": null,
            "overflow": null,
            "overflow_x": null,
            "overflow_y": null,
            "padding": null,
            "right": null,
            "top": null,
            "visibility": null,
            "width": null
          }
        },
        "17b0987b9404487786a4b2d93c7ad464": {
          "model_module": "@jupyter-widgets/base",
          "model_name": "LayoutModel",
          "model_module_version": "1.2.0",
          "state": {
            "_model_module": "@jupyter-widgets/base",
            "_model_module_version": "1.2.0",
            "_model_name": "LayoutModel",
            "_view_count": null,
            "_view_module": "@jupyter-widgets/base",
            "_view_module_version": "1.2.0",
            "_view_name": "LayoutView",
            "align_content": null,
            "align_items": null,
            "align_self": null,
            "border": null,
            "bottom": null,
            "display": null,
            "flex": null,
            "flex_flow": null,
            "grid_area": null,
            "grid_auto_columns": null,
            "grid_auto_flow": null,
            "grid_auto_rows": null,
            "grid_column": null,
            "grid_gap": null,
            "grid_row": null,
            "grid_template_areas": null,
            "grid_template_columns": null,
            "grid_template_rows": null,
            "height": null,
            "justify_content": null,
            "justify_items": null,
            "left": null,
            "margin": null,
            "max_height": null,
            "max_width": null,
            "min_height": null,
            "min_width": null,
            "object_fit": null,
            "object_position": null,
            "order": null,
            "overflow": null,
            "overflow_x": null,
            "overflow_y": null,
            "padding": null,
            "right": null,
            "top": null,
            "visibility": null,
            "width": null
          }
        },
        "6af4acd84b9b472cada5cb45c1ed3b88": {
          "model_module": "@jupyter-widgets/controls",
          "model_name": "DescriptionStyleModel",
          "model_module_version": "1.5.0",
          "state": {
            "_model_module": "@jupyter-widgets/controls",
            "_model_module_version": "1.5.0",
            "_model_name": "DescriptionStyleModel",
            "_view_count": null,
            "_view_module": "@jupyter-widgets/base",
            "_view_module_version": "1.2.0",
            "_view_name": "StyleView",
            "description_width": ""
          }
        },
        "1076de72466c4d3ab739509538ae76cf": {
          "model_module": "@jupyter-widgets/base",
          "model_name": "LayoutModel",
          "model_module_version": "1.2.0",
          "state": {
            "_model_module": "@jupyter-widgets/base",
            "_model_module_version": "1.2.0",
            "_model_name": "LayoutModel",
            "_view_count": null,
            "_view_module": "@jupyter-widgets/base",
            "_view_module_version": "1.2.0",
            "_view_name": "LayoutView",
            "align_content": null,
            "align_items": null,
            "align_self": null,
            "border": null,
            "bottom": null,
            "display": null,
            "flex": null,
            "flex_flow": null,
            "grid_area": null,
            "grid_auto_columns": null,
            "grid_auto_flow": null,
            "grid_auto_rows": null,
            "grid_column": null,
            "grid_gap": null,
            "grid_row": null,
            "grid_template_areas": null,
            "grid_template_columns": null,
            "grid_template_rows": null,
            "height": null,
            "justify_content": null,
            "justify_items": null,
            "left": null,
            "margin": null,
            "max_height": null,
            "max_width": null,
            "min_height": null,
            "min_width": null,
            "object_fit": null,
            "object_position": null,
            "order": null,
            "overflow": null,
            "overflow_x": null,
            "overflow_y": null,
            "padding": null,
            "right": null,
            "top": null,
            "visibility": null,
            "width": null
          }
        },
        "1ca217a2d28e44518d8279d2c1311537": {
          "model_module": "@jupyter-widgets/controls",
          "model_name": "ProgressStyleModel",
          "model_module_version": "1.5.0",
          "state": {
            "_model_module": "@jupyter-widgets/controls",
            "_model_module_version": "1.5.0",
            "_model_name": "ProgressStyleModel",
            "_view_count": null,
            "_view_module": "@jupyter-widgets/base",
            "_view_module_version": "1.2.0",
            "_view_name": "StyleView",
            "bar_color": null,
            "description_width": ""
          }
        },
        "4e0a8ee7e22446738795cc1f47d5fea0": {
          "model_module": "@jupyter-widgets/base",
          "model_name": "LayoutModel",
          "model_module_version": "1.2.0",
          "state": {
            "_model_module": "@jupyter-widgets/base",
            "_model_module_version": "1.2.0",
            "_model_name": "LayoutModel",
            "_view_count": null,
            "_view_module": "@jupyter-widgets/base",
            "_view_module_version": "1.2.0",
            "_view_name": "LayoutView",
            "align_content": null,
            "align_items": null,
            "align_self": null,
            "border": null,
            "bottom": null,
            "display": null,
            "flex": null,
            "flex_flow": null,
            "grid_area": null,
            "grid_auto_columns": null,
            "grid_auto_flow": null,
            "grid_auto_rows": null,
            "grid_column": null,
            "grid_gap": null,
            "grid_row": null,
            "grid_template_areas": null,
            "grid_template_columns": null,
            "grid_template_rows": null,
            "height": null,
            "justify_content": null,
            "justify_items": null,
            "left": null,
            "margin": null,
            "max_height": null,
            "max_width": null,
            "min_height": null,
            "min_width": null,
            "object_fit": null,
            "object_position": null,
            "order": null,
            "overflow": null,
            "overflow_x": null,
            "overflow_y": null,
            "padding": null,
            "right": null,
            "top": null,
            "visibility": null,
            "width": null
          }
        },
        "7f23f84772884eecad602cd6ee7dc478": {
          "model_module": "@jupyter-widgets/controls",
          "model_name": "DescriptionStyleModel",
          "model_module_version": "1.5.0",
          "state": {
            "_model_module": "@jupyter-widgets/controls",
            "_model_module_version": "1.5.0",
            "_model_name": "DescriptionStyleModel",
            "_view_count": null,
            "_view_module": "@jupyter-widgets/base",
            "_view_module_version": "1.2.0",
            "_view_name": "StyleView",
            "description_width": ""
          }
        },
        "c39bad8a03bc4840bd9f0e4a7d2400b1": {
          "model_module": "@jupyter-widgets/controls",
          "model_name": "HBoxModel",
          "model_module_version": "1.5.0",
          "state": {
            "_dom_classes": [],
            "_model_module": "@jupyter-widgets/controls",
            "_model_module_version": "1.5.0",
            "_model_name": "HBoxModel",
            "_view_count": null,
            "_view_module": "@jupyter-widgets/controls",
            "_view_module_version": "1.5.0",
            "_view_name": "HBoxView",
            "box_style": "",
            "children": [
              "IPY_MODEL_e770c1b043e3488b977daf02a70dd10b",
              "IPY_MODEL_9c771590b1294aa682177d6159835363",
              "IPY_MODEL_d2ad3e015cf64b40ac57e91ad68f7cd2"
            ],
            "layout": "IPY_MODEL_c14496728d5c4d0887e7ecd629a138bb"
          }
        },
        "e770c1b043e3488b977daf02a70dd10b": {
          "model_module": "@jupyter-widgets/controls",
          "model_name": "HTMLModel",
          "model_module_version": "1.5.0",
          "state": {
            "_dom_classes": [],
            "_model_module": "@jupyter-widgets/controls",
            "_model_module_version": "1.5.0",
            "_model_name": "HTMLModel",
            "_view_count": null,
            "_view_module": "@jupyter-widgets/controls",
            "_view_module_version": "1.5.0",
            "_view_name": "HTMLView",
            "description": "",
            "description_tooltip": null,
            "layout": "IPY_MODEL_2f3d91ffaa1c4228869218df99d50f78",
            "placeholder": "​",
            "style": "IPY_MODEL_4dd820fad7554decbf900064c6e27b7a",
            "value": "100%"
          }
        },
        "9c771590b1294aa682177d6159835363": {
          "model_module": "@jupyter-widgets/controls",
          "model_name": "FloatProgressModel",
          "model_module_version": "1.5.0",
          "state": {
            "_dom_classes": [],
            "_model_module": "@jupyter-widgets/controls",
            "_model_module_version": "1.5.0",
            "_model_name": "FloatProgressModel",
            "_view_count": null,
            "_view_module": "@jupyter-widgets/controls",
            "_view_module_version": "1.5.0",
            "_view_name": "ProgressView",
            "bar_style": "success",
            "description": "",
            "description_tooltip": null,
            "layout": "IPY_MODEL_f304115b3bf44c45a921fb3a98a655a9",
            "max": 5000,
            "min": 0,
            "orientation": "horizontal",
            "style": "IPY_MODEL_8789e42f15834748a57bd12cb258c40f",
            "value": 5000
          }
        },
        "d2ad3e015cf64b40ac57e91ad68f7cd2": {
          "model_module": "@jupyter-widgets/controls",
          "model_name": "HTMLModel",
          "model_module_version": "1.5.0",
          "state": {
            "_dom_classes": [],
            "_model_module": "@jupyter-widgets/controls",
            "_model_module_version": "1.5.0",
            "_model_name": "HTMLModel",
            "_view_count": null,
            "_view_module": "@jupyter-widgets/controls",
            "_view_module_version": "1.5.0",
            "_view_name": "HTMLView",
            "description": "",
            "description_tooltip": null,
            "layout": "IPY_MODEL_f5b90d78823c47318ba4f6f739d18805",
            "placeholder": "​",
            "style": "IPY_MODEL_ce449c4352bd4e04b72e58245e6d2f82",
            "value": " 5000/5000 [00:32&lt;00:00, 163.74it/s]"
          }
        },
        "c14496728d5c4d0887e7ecd629a138bb": {
          "model_module": "@jupyter-widgets/base",
          "model_name": "LayoutModel",
          "model_module_version": "1.2.0",
          "state": {
            "_model_module": "@jupyter-widgets/base",
            "_model_module_version": "1.2.0",
            "_model_name": "LayoutModel",
            "_view_count": null,
            "_view_module": "@jupyter-widgets/base",
            "_view_module_version": "1.2.0",
            "_view_name": "LayoutView",
            "align_content": null,
            "align_items": null,
            "align_self": null,
            "border": null,
            "bottom": null,
            "display": null,
            "flex": null,
            "flex_flow": null,
            "grid_area": null,
            "grid_auto_columns": null,
            "grid_auto_flow": null,
            "grid_auto_rows": null,
            "grid_column": null,
            "grid_gap": null,
            "grid_row": null,
            "grid_template_areas": null,
            "grid_template_columns": null,
            "grid_template_rows": null,
            "height": null,
            "justify_content": null,
            "justify_items": null,
            "left": null,
            "margin": null,
            "max_height": null,
            "max_width": null,
            "min_height": null,
            "min_width": null,
            "object_fit": null,
            "object_position": null,
            "order": null,
            "overflow": null,
            "overflow_x": null,
            "overflow_y": null,
            "padding": null,
            "right": null,
            "top": null,
            "visibility": null,
            "width": null
          }
        },
        "2f3d91ffaa1c4228869218df99d50f78": {
          "model_module": "@jupyter-widgets/base",
          "model_name": "LayoutModel",
          "model_module_version": "1.2.0",
          "state": {
            "_model_module": "@jupyter-widgets/base",
            "_model_module_version": "1.2.0",
            "_model_name": "LayoutModel",
            "_view_count": null,
            "_view_module": "@jupyter-widgets/base",
            "_view_module_version": "1.2.0",
            "_view_name": "LayoutView",
            "align_content": null,
            "align_items": null,
            "align_self": null,
            "border": null,
            "bottom": null,
            "display": null,
            "flex": null,
            "flex_flow": null,
            "grid_area": null,
            "grid_auto_columns": null,
            "grid_auto_flow": null,
            "grid_auto_rows": null,
            "grid_column": null,
            "grid_gap": null,
            "grid_row": null,
            "grid_template_areas": null,
            "grid_template_columns": null,
            "grid_template_rows": null,
            "height": null,
            "justify_content": null,
            "justify_items": null,
            "left": null,
            "margin": null,
            "max_height": null,
            "max_width": null,
            "min_height": null,
            "min_width": null,
            "object_fit": null,
            "object_position": null,
            "order": null,
            "overflow": null,
            "overflow_x": null,
            "overflow_y": null,
            "padding": null,
            "right": null,
            "top": null,
            "visibility": null,
            "width": null
          }
        },
        "4dd820fad7554decbf900064c6e27b7a": {
          "model_module": "@jupyter-widgets/controls",
          "model_name": "DescriptionStyleModel",
          "model_module_version": "1.5.0",
          "state": {
            "_model_module": "@jupyter-widgets/controls",
            "_model_module_version": "1.5.0",
            "_model_name": "DescriptionStyleModel",
            "_view_count": null,
            "_view_module": "@jupyter-widgets/base",
            "_view_module_version": "1.2.0",
            "_view_name": "StyleView",
            "description_width": ""
          }
        },
        "f304115b3bf44c45a921fb3a98a655a9": {
          "model_module": "@jupyter-widgets/base",
          "model_name": "LayoutModel",
          "model_module_version": "1.2.0",
          "state": {
            "_model_module": "@jupyter-widgets/base",
            "_model_module_version": "1.2.0",
            "_model_name": "LayoutModel",
            "_view_count": null,
            "_view_module": "@jupyter-widgets/base",
            "_view_module_version": "1.2.0",
            "_view_name": "LayoutView",
            "align_content": null,
            "align_items": null,
            "align_self": null,
            "border": null,
            "bottom": null,
            "display": null,
            "flex": null,
            "flex_flow": null,
            "grid_area": null,
            "grid_auto_columns": null,
            "grid_auto_flow": null,
            "grid_auto_rows": null,
            "grid_column": null,
            "grid_gap": null,
            "grid_row": null,
            "grid_template_areas": null,
            "grid_template_columns": null,
            "grid_template_rows": null,
            "height": null,
            "justify_content": null,
            "justify_items": null,
            "left": null,
            "margin": null,
            "max_height": null,
            "max_width": null,
            "min_height": null,
            "min_width": null,
            "object_fit": null,
            "object_position": null,
            "order": null,
            "overflow": null,
            "overflow_x": null,
            "overflow_y": null,
            "padding": null,
            "right": null,
            "top": null,
            "visibility": null,
            "width": null
          }
        },
        "8789e42f15834748a57bd12cb258c40f": {
          "model_module": "@jupyter-widgets/controls",
          "model_name": "ProgressStyleModel",
          "model_module_version": "1.5.0",
          "state": {
            "_model_module": "@jupyter-widgets/controls",
            "_model_module_version": "1.5.0",
            "_model_name": "ProgressStyleModel",
            "_view_count": null,
            "_view_module": "@jupyter-widgets/base",
            "_view_module_version": "1.2.0",
            "_view_name": "StyleView",
            "bar_color": null,
            "description_width": ""
          }
        },
        "f5b90d78823c47318ba4f6f739d18805": {
          "model_module": "@jupyter-widgets/base",
          "model_name": "LayoutModel",
          "model_module_version": "1.2.0",
          "state": {
            "_model_module": "@jupyter-widgets/base",
            "_model_module_version": "1.2.0",
            "_model_name": "LayoutModel",
            "_view_count": null,
            "_view_module": "@jupyter-widgets/base",
            "_view_module_version": "1.2.0",
            "_view_name": "LayoutView",
            "align_content": null,
            "align_items": null,
            "align_self": null,
            "border": null,
            "bottom": null,
            "display": null,
            "flex": null,
            "flex_flow": null,
            "grid_area": null,
            "grid_auto_columns": null,
            "grid_auto_flow": null,
            "grid_auto_rows": null,
            "grid_column": null,
            "grid_gap": null,
            "grid_row": null,
            "grid_template_areas": null,
            "grid_template_columns": null,
            "grid_template_rows": null,
            "height": null,
            "justify_content": null,
            "justify_items": null,
            "left": null,
            "margin": null,
            "max_height": null,
            "max_width": null,
            "min_height": null,
            "min_width": null,
            "object_fit": null,
            "object_position": null,
            "order": null,
            "overflow": null,
            "overflow_x": null,
            "overflow_y": null,
            "padding": null,
            "right": null,
            "top": null,
            "visibility": null,
            "width": null
          }
        },
        "ce449c4352bd4e04b72e58245e6d2f82": {
          "model_module": "@jupyter-widgets/controls",
          "model_name": "DescriptionStyleModel",
          "model_module_version": "1.5.0",
          "state": {
            "_model_module": "@jupyter-widgets/controls",
            "_model_module_version": "1.5.0",
            "_model_name": "DescriptionStyleModel",
            "_view_count": null,
            "_view_module": "@jupyter-widgets/base",
            "_view_module_version": "1.2.0",
            "_view_name": "StyleView",
            "description_width": ""
          }
        },
        "52d77696d2fb43348167fa9cf7cc42a3": {
          "model_module": "@jupyter-widgets/controls",
          "model_name": "HBoxModel",
          "model_module_version": "1.5.0",
          "state": {
            "_dom_classes": [],
            "_model_module": "@jupyter-widgets/controls",
            "_model_module_version": "1.5.0",
            "_model_name": "HBoxModel",
            "_view_count": null,
            "_view_module": "@jupyter-widgets/controls",
            "_view_module_version": "1.5.0",
            "_view_name": "HBoxView",
            "box_style": "",
            "children": [
              "IPY_MODEL_1ff7e1b879694055accdf13f95f0c243",
              "IPY_MODEL_f3be4963f3224043a71203ad75545749",
              "IPY_MODEL_1b89b0ce31a64346809ddcdbdb3086cf"
            ],
            "layout": "IPY_MODEL_c9df210840214ff2aa9948b1287c5840"
          }
        },
        "1ff7e1b879694055accdf13f95f0c243": {
          "model_module": "@jupyter-widgets/controls",
          "model_name": "HTMLModel",
          "model_module_version": "1.5.0",
          "state": {
            "_dom_classes": [],
            "_model_module": "@jupyter-widgets/controls",
            "_model_module_version": "1.5.0",
            "_model_name": "HTMLModel",
            "_view_count": null,
            "_view_module": "@jupyter-widgets/controls",
            "_view_module_version": "1.5.0",
            "_view_name": "HTMLView",
            "description": "",
            "description_tooltip": null,
            "layout": "IPY_MODEL_9bce0384a9c448fd98f18bb43617446b",
            "placeholder": "​",
            "style": "IPY_MODEL_b802696696c8467199c4aa9a09aa864a",
            "value": "100%"
          }
        },
        "f3be4963f3224043a71203ad75545749": {
          "model_module": "@jupyter-widgets/controls",
          "model_name": "FloatProgressModel",
          "model_module_version": "1.5.0",
          "state": {
            "_dom_classes": [],
            "_model_module": "@jupyter-widgets/controls",
            "_model_module_version": "1.5.0",
            "_model_name": "FloatProgressModel",
            "_view_count": null,
            "_view_module": "@jupyter-widgets/controls",
            "_view_module_version": "1.5.0",
            "_view_name": "ProgressView",
            "bar_style": "success",
            "description": "",
            "description_tooltip": null,
            "layout": "IPY_MODEL_d916a5b5496c471994643410a63483ba",
            "max": 5000,
            "min": 0,
            "orientation": "horizontal",
            "style": "IPY_MODEL_267b3b3f5caa44d3b20702baef785f70",
            "value": 5000
          }
        },
        "1b89b0ce31a64346809ddcdbdb3086cf": {
          "model_module": "@jupyter-widgets/controls",
          "model_name": "HTMLModel",
          "model_module_version": "1.5.0",
          "state": {
            "_dom_classes": [],
            "_model_module": "@jupyter-widgets/controls",
            "_model_module_version": "1.5.0",
            "_model_name": "HTMLModel",
            "_view_count": null,
            "_view_module": "@jupyter-widgets/controls",
            "_view_module_version": "1.5.0",
            "_view_name": "HTMLView",
            "description": "",
            "description_tooltip": null,
            "layout": "IPY_MODEL_e31352480a824f9da0411edf821458ff",
            "placeholder": "​",
            "style": "IPY_MODEL_e6542c21066e4955add81890f73b1694",
            "value": " 5000/5000 [00:41&lt;00:00, 131.53it/s]"
          }
        },
        "c9df210840214ff2aa9948b1287c5840": {
          "model_module": "@jupyter-widgets/base",
          "model_name": "LayoutModel",
          "model_module_version": "1.2.0",
          "state": {
            "_model_module": "@jupyter-widgets/base",
            "_model_module_version": "1.2.0",
            "_model_name": "LayoutModel",
            "_view_count": null,
            "_view_module": "@jupyter-widgets/base",
            "_view_module_version": "1.2.0",
            "_view_name": "LayoutView",
            "align_content": null,
            "align_items": null,
            "align_self": null,
            "border": null,
            "bottom": null,
            "display": null,
            "flex": null,
            "flex_flow": null,
            "grid_area": null,
            "grid_auto_columns": null,
            "grid_auto_flow": null,
            "grid_auto_rows": null,
            "grid_column": null,
            "grid_gap": null,
            "grid_row": null,
            "grid_template_areas": null,
            "grid_template_columns": null,
            "grid_template_rows": null,
            "height": null,
            "justify_content": null,
            "justify_items": null,
            "left": null,
            "margin": null,
            "max_height": null,
            "max_width": null,
            "min_height": null,
            "min_width": null,
            "object_fit": null,
            "object_position": null,
            "order": null,
            "overflow": null,
            "overflow_x": null,
            "overflow_y": null,
            "padding": null,
            "right": null,
            "top": null,
            "visibility": null,
            "width": null
          }
        },
        "9bce0384a9c448fd98f18bb43617446b": {
          "model_module": "@jupyter-widgets/base",
          "model_name": "LayoutModel",
          "model_module_version": "1.2.0",
          "state": {
            "_model_module": "@jupyter-widgets/base",
            "_model_module_version": "1.2.0",
            "_model_name": "LayoutModel",
            "_view_count": null,
            "_view_module": "@jupyter-widgets/base",
            "_view_module_version": "1.2.0",
            "_view_name": "LayoutView",
            "align_content": null,
            "align_items": null,
            "align_self": null,
            "border": null,
            "bottom": null,
            "display": null,
            "flex": null,
            "flex_flow": null,
            "grid_area": null,
            "grid_auto_columns": null,
            "grid_auto_flow": null,
            "grid_auto_rows": null,
            "grid_column": null,
            "grid_gap": null,
            "grid_row": null,
            "grid_template_areas": null,
            "grid_template_columns": null,
            "grid_template_rows": null,
            "height": null,
            "justify_content": null,
            "justify_items": null,
            "left": null,
            "margin": null,
            "max_height": null,
            "max_width": null,
            "min_height": null,
            "min_width": null,
            "object_fit": null,
            "object_position": null,
            "order": null,
            "overflow": null,
            "overflow_x": null,
            "overflow_y": null,
            "padding": null,
            "right": null,
            "top": null,
            "visibility": null,
            "width": null
          }
        },
        "b802696696c8467199c4aa9a09aa864a": {
          "model_module": "@jupyter-widgets/controls",
          "model_name": "DescriptionStyleModel",
          "model_module_version": "1.5.0",
          "state": {
            "_model_module": "@jupyter-widgets/controls",
            "_model_module_version": "1.5.0",
            "_model_name": "DescriptionStyleModel",
            "_view_count": null,
            "_view_module": "@jupyter-widgets/base",
            "_view_module_version": "1.2.0",
            "_view_name": "StyleView",
            "description_width": ""
          }
        },
        "d916a5b5496c471994643410a63483ba": {
          "model_module": "@jupyter-widgets/base",
          "model_name": "LayoutModel",
          "model_module_version": "1.2.0",
          "state": {
            "_model_module": "@jupyter-widgets/base",
            "_model_module_version": "1.2.0",
            "_model_name": "LayoutModel",
            "_view_count": null,
            "_view_module": "@jupyter-widgets/base",
            "_view_module_version": "1.2.0",
            "_view_name": "LayoutView",
            "align_content": null,
            "align_items": null,
            "align_self": null,
            "border": null,
            "bottom": null,
            "display": null,
            "flex": null,
            "flex_flow": null,
            "grid_area": null,
            "grid_auto_columns": null,
            "grid_auto_flow": null,
            "grid_auto_rows": null,
            "grid_column": null,
            "grid_gap": null,
            "grid_row": null,
            "grid_template_areas": null,
            "grid_template_columns": null,
            "grid_template_rows": null,
            "height": null,
            "justify_content": null,
            "justify_items": null,
            "left": null,
            "margin": null,
            "max_height": null,
            "max_width": null,
            "min_height": null,
            "min_width": null,
            "object_fit": null,
            "object_position": null,
            "order": null,
            "overflow": null,
            "overflow_x": null,
            "overflow_y": null,
            "padding": null,
            "right": null,
            "top": null,
            "visibility": null,
            "width": null
          }
        },
        "267b3b3f5caa44d3b20702baef785f70": {
          "model_module": "@jupyter-widgets/controls",
          "model_name": "ProgressStyleModel",
          "model_module_version": "1.5.0",
          "state": {
            "_model_module": "@jupyter-widgets/controls",
            "_model_module_version": "1.5.0",
            "_model_name": "ProgressStyleModel",
            "_view_count": null,
            "_view_module": "@jupyter-widgets/base",
            "_view_module_version": "1.2.0",
            "_view_name": "StyleView",
            "bar_color": null,
            "description_width": ""
          }
        },
        "e31352480a824f9da0411edf821458ff": {
          "model_module": "@jupyter-widgets/base",
          "model_name": "LayoutModel",
          "model_module_version": "1.2.0",
          "state": {
            "_model_module": "@jupyter-widgets/base",
            "_model_module_version": "1.2.0",
            "_model_name": "LayoutModel",
            "_view_count": null,
            "_view_module": "@jupyter-widgets/base",
            "_view_module_version": "1.2.0",
            "_view_name": "LayoutView",
            "align_content": null,
            "align_items": null,
            "align_self": null,
            "border": null,
            "bottom": null,
            "display": null,
            "flex": null,
            "flex_flow": null,
            "grid_area": null,
            "grid_auto_columns": null,
            "grid_auto_flow": null,
            "grid_auto_rows": null,
            "grid_column": null,
            "grid_gap": null,
            "grid_row": null,
            "grid_template_areas": null,
            "grid_template_columns": null,
            "grid_template_rows": null,
            "height": null,
            "justify_content": null,
            "justify_items": null,
            "left": null,
            "margin": null,
            "max_height": null,
            "max_width": null,
            "min_height": null,
            "min_width": null,
            "object_fit": null,
            "object_position": null,
            "order": null,
            "overflow": null,
            "overflow_x": null,
            "overflow_y": null,
            "padding": null,
            "right": null,
            "top": null,
            "visibility": null,
            "width": null
          }
        },
        "e6542c21066e4955add81890f73b1694": {
          "model_module": "@jupyter-widgets/controls",
          "model_name": "DescriptionStyleModel",
          "model_module_version": "1.5.0",
          "state": {
            "_model_module": "@jupyter-widgets/controls",
            "_model_module_version": "1.5.0",
            "_model_name": "DescriptionStyleModel",
            "_view_count": null,
            "_view_module": "@jupyter-widgets/base",
            "_view_module_version": "1.2.0",
            "_view_name": "StyleView",
            "description_width": ""
          }
        },
        "01d2ebe05b4047eeaf9b31076d32124f": {
          "model_module": "@jupyter-widgets/controls",
          "model_name": "HBoxModel",
          "model_module_version": "1.5.0",
          "state": {
            "_dom_classes": [],
            "_model_module": "@jupyter-widgets/controls",
            "_model_module_version": "1.5.0",
            "_model_name": "HBoxModel",
            "_view_count": null,
            "_view_module": "@jupyter-widgets/controls",
            "_view_module_version": "1.5.0",
            "_view_name": "HBoxView",
            "box_style": "",
            "children": [
              "IPY_MODEL_4a0beccfcce545c8b2d9b93db26085a7",
              "IPY_MODEL_87d65b74feba4588a5f517b872f6ad29",
              "IPY_MODEL_45eca1dcd71b473f96b5c0248b050609"
            ],
            "layout": "IPY_MODEL_dbe9f5f1f042421eb4a85a91b4cf47cf"
          }
        },
        "4a0beccfcce545c8b2d9b93db26085a7": {
          "model_module": "@jupyter-widgets/controls",
          "model_name": "HTMLModel",
          "model_module_version": "1.5.0",
          "state": {
            "_dom_classes": [],
            "_model_module": "@jupyter-widgets/controls",
            "_model_module_version": "1.5.0",
            "_model_name": "HTMLModel",
            "_view_count": null,
            "_view_module": "@jupyter-widgets/controls",
            "_view_module_version": "1.5.0",
            "_view_name": "HTMLView",
            "description": "",
            "description_tooltip": null,
            "layout": "IPY_MODEL_ad2971783e094c9dab12d8db603f6067",
            "placeholder": "​",
            "style": "IPY_MODEL_f84411664dda4fd1a76870ec205a7e1e",
            "value": "100%"
          }
        },
        "87d65b74feba4588a5f517b872f6ad29": {
          "model_module": "@jupyter-widgets/controls",
          "model_name": "FloatProgressModel",
          "model_module_version": "1.5.0",
          "state": {
            "_dom_classes": [],
            "_model_module": "@jupyter-widgets/controls",
            "_model_module_version": "1.5.0",
            "_model_name": "FloatProgressModel",
            "_view_count": null,
            "_view_module": "@jupyter-widgets/controls",
            "_view_module_version": "1.5.0",
            "_view_name": "ProgressView",
            "bar_style": "success",
            "description": "",
            "description_tooltip": null,
            "layout": "IPY_MODEL_3c3017dffa29401bab7e79846ce2d9ef",
            "max": 5000,
            "min": 0,
            "orientation": "horizontal",
            "style": "IPY_MODEL_aa8fde8b632e403ab51f6c0d16904518",
            "value": 5000
          }
        },
        "45eca1dcd71b473f96b5c0248b050609": {
          "model_module": "@jupyter-widgets/controls",
          "model_name": "HTMLModel",
          "model_module_version": "1.5.0",
          "state": {
            "_dom_classes": [],
            "_model_module": "@jupyter-widgets/controls",
            "_model_module_version": "1.5.0",
            "_model_name": "HTMLModel",
            "_view_count": null,
            "_view_module": "@jupyter-widgets/controls",
            "_view_module_version": "1.5.0",
            "_view_name": "HTMLView",
            "description": "",
            "description_tooltip": null,
            "layout": "IPY_MODEL_b56a3a0697424e7ab27caabcace46c5d",
            "placeholder": "​",
            "style": "IPY_MODEL_182138032fb44047b345d39e2c511851",
            "value": " 5000/5000 [00:40&lt;00:00, 106.89it/s]"
          }
        },
        "dbe9f5f1f042421eb4a85a91b4cf47cf": {
          "model_module": "@jupyter-widgets/base",
          "model_name": "LayoutModel",
          "model_module_version": "1.2.0",
          "state": {
            "_model_module": "@jupyter-widgets/base",
            "_model_module_version": "1.2.0",
            "_model_name": "LayoutModel",
            "_view_count": null,
            "_view_module": "@jupyter-widgets/base",
            "_view_module_version": "1.2.0",
            "_view_name": "LayoutView",
            "align_content": null,
            "align_items": null,
            "align_self": null,
            "border": null,
            "bottom": null,
            "display": null,
            "flex": null,
            "flex_flow": null,
            "grid_area": null,
            "grid_auto_columns": null,
            "grid_auto_flow": null,
            "grid_auto_rows": null,
            "grid_column": null,
            "grid_gap": null,
            "grid_row": null,
            "grid_template_areas": null,
            "grid_template_columns": null,
            "grid_template_rows": null,
            "height": null,
            "justify_content": null,
            "justify_items": null,
            "left": null,
            "margin": null,
            "max_height": null,
            "max_width": null,
            "min_height": null,
            "min_width": null,
            "object_fit": null,
            "object_position": null,
            "order": null,
            "overflow": null,
            "overflow_x": null,
            "overflow_y": null,
            "padding": null,
            "right": null,
            "top": null,
            "visibility": null,
            "width": null
          }
        },
        "ad2971783e094c9dab12d8db603f6067": {
          "model_module": "@jupyter-widgets/base",
          "model_name": "LayoutModel",
          "model_module_version": "1.2.0",
          "state": {
            "_model_module": "@jupyter-widgets/base",
            "_model_module_version": "1.2.0",
            "_model_name": "LayoutModel",
            "_view_count": null,
            "_view_module": "@jupyter-widgets/base",
            "_view_module_version": "1.2.0",
            "_view_name": "LayoutView",
            "align_content": null,
            "align_items": null,
            "align_self": null,
            "border": null,
            "bottom": null,
            "display": null,
            "flex": null,
            "flex_flow": null,
            "grid_area": null,
            "grid_auto_columns": null,
            "grid_auto_flow": null,
            "grid_auto_rows": null,
            "grid_column": null,
            "grid_gap": null,
            "grid_row": null,
            "grid_template_areas": null,
            "grid_template_columns": null,
            "grid_template_rows": null,
            "height": null,
            "justify_content": null,
            "justify_items": null,
            "left": null,
            "margin": null,
            "max_height": null,
            "max_width": null,
            "min_height": null,
            "min_width": null,
            "object_fit": null,
            "object_position": null,
            "order": null,
            "overflow": null,
            "overflow_x": null,
            "overflow_y": null,
            "padding": null,
            "right": null,
            "top": null,
            "visibility": null,
            "width": null
          }
        },
        "f84411664dda4fd1a76870ec205a7e1e": {
          "model_module": "@jupyter-widgets/controls",
          "model_name": "DescriptionStyleModel",
          "model_module_version": "1.5.0",
          "state": {
            "_model_module": "@jupyter-widgets/controls",
            "_model_module_version": "1.5.0",
            "_model_name": "DescriptionStyleModel",
            "_view_count": null,
            "_view_module": "@jupyter-widgets/base",
            "_view_module_version": "1.2.0",
            "_view_name": "StyleView",
            "description_width": ""
          }
        },
        "3c3017dffa29401bab7e79846ce2d9ef": {
          "model_module": "@jupyter-widgets/base",
          "model_name": "LayoutModel",
          "model_module_version": "1.2.0",
          "state": {
            "_model_module": "@jupyter-widgets/base",
            "_model_module_version": "1.2.0",
            "_model_name": "LayoutModel",
            "_view_count": null,
            "_view_module": "@jupyter-widgets/base",
            "_view_module_version": "1.2.0",
            "_view_name": "LayoutView",
            "align_content": null,
            "align_items": null,
            "align_self": null,
            "border": null,
            "bottom": null,
            "display": null,
            "flex": null,
            "flex_flow": null,
            "grid_area": null,
            "grid_auto_columns": null,
            "grid_auto_flow": null,
            "grid_auto_rows": null,
            "grid_column": null,
            "grid_gap": null,
            "grid_row": null,
            "grid_template_areas": null,
            "grid_template_columns": null,
            "grid_template_rows": null,
            "height": null,
            "justify_content": null,
            "justify_items": null,
            "left": null,
            "margin": null,
            "max_height": null,
            "max_width": null,
            "min_height": null,
            "min_width": null,
            "object_fit": null,
            "object_position": null,
            "order": null,
            "overflow": null,
            "overflow_x": null,
            "overflow_y": null,
            "padding": null,
            "right": null,
            "top": null,
            "visibility": null,
            "width": null
          }
        },
        "aa8fde8b632e403ab51f6c0d16904518": {
          "model_module": "@jupyter-widgets/controls",
          "model_name": "ProgressStyleModel",
          "model_module_version": "1.5.0",
          "state": {
            "_model_module": "@jupyter-widgets/controls",
            "_model_module_version": "1.5.0",
            "_model_name": "ProgressStyleModel",
            "_view_count": null,
            "_view_module": "@jupyter-widgets/base",
            "_view_module_version": "1.2.0",
            "_view_name": "StyleView",
            "bar_color": null,
            "description_width": ""
          }
        },
        "b56a3a0697424e7ab27caabcace46c5d": {
          "model_module": "@jupyter-widgets/base",
          "model_name": "LayoutModel",
          "model_module_version": "1.2.0",
          "state": {
            "_model_module": "@jupyter-widgets/base",
            "_model_module_version": "1.2.0",
            "_model_name": "LayoutModel",
            "_view_count": null,
            "_view_module": "@jupyter-widgets/base",
            "_view_module_version": "1.2.0",
            "_view_name": "LayoutView",
            "align_content": null,
            "align_items": null,
            "align_self": null,
            "border": null,
            "bottom": null,
            "display": null,
            "flex": null,
            "flex_flow": null,
            "grid_area": null,
            "grid_auto_columns": null,
            "grid_auto_flow": null,
            "grid_auto_rows": null,
            "grid_column": null,
            "grid_gap": null,
            "grid_row": null,
            "grid_template_areas": null,
            "grid_template_columns": null,
            "grid_template_rows": null,
            "height": null,
            "justify_content": null,
            "justify_items": null,
            "left": null,
            "margin": null,
            "max_height": null,
            "max_width": null,
            "min_height": null,
            "min_width": null,
            "object_fit": null,
            "object_position": null,
            "order": null,
            "overflow": null,
            "overflow_x": null,
            "overflow_y": null,
            "padding": null,
            "right": null,
            "top": null,
            "visibility": null,
            "width": null
          }
        },
        "182138032fb44047b345d39e2c511851": {
          "model_module": "@jupyter-widgets/controls",
          "model_name": "DescriptionStyleModel",
          "model_module_version": "1.5.0",
          "state": {
            "_model_module": "@jupyter-widgets/controls",
            "_model_module_version": "1.5.0",
            "_model_name": "DescriptionStyleModel",
            "_view_count": null,
            "_view_module": "@jupyter-widgets/base",
            "_view_module_version": "1.2.0",
            "_view_name": "StyleView",
            "description_width": ""
          }
        }
      }
    },
    "accelerator": "GPU"
  },
  "cells": [
    {
      "cell_type": "markdown",
      "metadata": {
        "id": "view-in-github",
        "colab_type": "text"
      },
      "source": [
        "<a href=\"https://colab.research.google.com/github/Krittika91/Deep-Learning-HW/blob/main/MIS_285_HW_1_aw_kd_dg.ipynb\" target=\"_parent\"><img src=\"https://colab.research.google.com/assets/colab-badge.svg\" alt=\"Open In Colab\"/></a>"
      ]
    },
    {
      "cell_type": "markdown",
      "source": [
        "# MIS 285N: Homework 1\n",
        "\n",
        "Team Members:\n",
        "\n",
        "Avi Walyat(aw39578), Krittika Deshwal(kd29275), Davis Gill(dg38354)\n",
        "\n",
        "Submit:\n",
        "\n",
        "A pdf of your notebook with solutions.\n",
        "A link to your colab notebook or also upload your .ipynb if not working on colab.\n",
        "\n",
        "# Goals of this Lab\n",
        "\n",
        "**Fully Connected Models and XOR**\n",
        "\n",
        "\n",
        "1. How to create data objects that pytorch can use\n",
        "2. How to create a dataloader\n",
        "3. How to define a basic fully connected single layer model\n",
        "4. How to define a multi-layer fully connected model\n",
        "5. How to add non-linear activation functions.\n",
        "6. How to add layers in two different ways\n",
        "\n",
        "We also see the importance of nonlinear activation functions directly, by experimenting with the simple 4-data-point XOR example that we saw in class.\n"
      ],
      "metadata": {
        "id": "vMQXDZXXN8q2"
      }
    },
    {
      "cell_type": "code",
      "execution_count": null,
      "metadata": {
        "id": "T6k-hagH8H0l"
      },
      "outputs": [],
      "source": [
        "import torch\n",
        "import numpy as np\n",
        "import time\n",
        "from tqdm.notebook import tqdm"
      ]
    },
    {
      "cell_type": "markdown",
      "source": [
        "# First we define a linear regressor.\n",
        "This is the same as a fully connected layer. It will be a building block in making deeper neural networks with fully connected layers."
      ],
      "metadata": {
        "id": "-LLf1qGBkNx4"
      }
    },
    {
      "cell_type": "code",
      "source": [
        "# We define our first class: LinearRegressor\n",
        "#\n",
        "class LinearRegressor(torch.nn.Module):\n",
        "    def __init__(self, input_dim, output_dim):\n",
        "        \"\"\"\n",
        "        Define the layer(s) needed for the linear model.\n",
        "        \"\"\"\n",
        "        super().__init__()\n",
        "        self.linear = torch.nn.Linear(input_dim, output_dim, bias = True) # just linear\n",
        "\n",
        "    def forward(self, x):\n",
        "        \"\"\"\n",
        "        Calculate the regression score (MSE).\n",
        "\n",
        "        Input:\n",
        "            x (float tensor N x d): input rows\n",
        "        Output:\n",
        "            y (float tensor N x 1): regression output\n",
        "        \"\"\"\n",
        "        x = self.linear(x)\n",
        "        return torch.flatten(x)\n",
        "\n",
        "\n",
        "    # defining a separate predict function is useful for multi-class\n",
        "    # classification as we will see later. Here it is\n",
        "    # unnecessary.\n",
        "\n",
        "    def predict(self, x):\n",
        "        \"\"\"\n",
        "        Predict the regression label of the input vector.\n",
        "\n",
        "        Input:\n",
        "            x (float tensor N X d): input images\n",
        "        Output:\n",
        "            y (float tensor N x 1): regression output\n",
        "        \"\"\"\n",
        "        x = self.linear(x)\n",
        "        return torch.flatten(x)"
      ],
      "metadata": {
        "id": "5ikI4E7WXrCQ"
      },
      "execution_count": null,
      "outputs": []
    },
    {
      "cell_type": "markdown",
      "source": [
        "## Problem 1:\n",
        "\n",
        "Now you will use torch.nn.Sequential (see https://pytorch.org/docs/stable/generated/torch.nn.Sequential.html) to construct a two layer neural network, with two fully connected layers (no non-linearity yet). Thus, you will combine torch.nn.Sequential with torch.nn.Linear that you saw above.\n",
        "\n",
        "\n",
        "Design your network so that the first layer has as many neurons as the input.\n",
        "\n",
        "Note: you have only one line to fill in here."
      ],
      "metadata": {
        "id": "36zhuTCUkZXT"
      }
    },
    {
      "cell_type": "code",
      "source": [
        "class TwoLayerLinearRegressor(torch.nn.Module):\n",
        "    def __init__(self, input_dim, output_dim):\n",
        "        \"\"\"\n",
        "        Define a model that stacks two linear fully connected layers.\n",
        "        \"\"\"\n",
        "        super().__init__()\n",
        "        self.TLL = torch.nn.Sequential(\n",
        "            torch.nn.Linear(input_dim, input_dim),  # First layer with input_dim neurons\n",
        "            torch.nn.Linear(input_dim, output_dim)  # Second layer with output_dim neurons\n",
        "        )\n",
        "\n",
        "    def forward(self, x):\n",
        "        \"\"\"\n",
        "        Calculate the regression score (MSE).\n",
        "\n",
        "        Input:\n",
        "            x (float tensor N x d): input rows\n",
        "        Output:\n",
        "            y (float tensor N x 1): regression output\n",
        "        \"\"\"\n",
        "        x = self.TLL(x)\n",
        "        return torch.flatten(x)\n",
        "\n",
        "    def predict(self, x):\n",
        "        \"\"\"\n",
        "        Predict the regression label of the input vector.\n",
        "\n",
        "        Input:\n",
        "            x (float tensor N X d): input images\n",
        "        Output:\n",
        "            y (float tensor N x 1): regression output\n",
        "        \"\"\"\n",
        "        x = self.TLL(x)\n",
        "        return torch.flatten(x)\n",
        "\n",
        "\n",
        "\n",
        "\n"
      ],
      "metadata": {
        "id": "0LpZdyIOjlr4"
      },
      "execution_count": null,
      "outputs": []
    },
    {
      "cell_type": "markdown",
      "source": [
        "## Problem 2\n",
        "\n",
        "Now you will create the same network, but using different syntax: you will not use torch.nn.Sequential. You need to fill in the two lines as noted by the comments."
      ],
      "metadata": {
        "id": "A9JRe7K3lQx7"
      }
    },
    {
      "cell_type": "code",
      "source": [
        "class TwoLayerLinearRegressor2(torch.nn.Module):\n",
        "    def __init__(self, input_dim, output_dim):\n",
        "        \"\"\"\n",
        "        Define a model that stacks two linear fully connected layers.\n",
        "        \"\"\"\n",
        "        super().__init__()\n",
        "        self.fc1 = torch.nn.Linear(input_dim, input_dim)\n",
        "        self.fc2 = torch.nn.Linear(input_dim, output_dim)\n",
        "\n",
        "\n",
        "    def forward(self, x):\n",
        "        \"\"\"\n",
        "        Calculate the regression score (MSE).\n",
        "\n",
        "        Input:\n",
        "            x (float tensor N x d): input rows\n",
        "        Output:\n",
        "            y (float tensor N x 1): regression output\n",
        "        \"\"\"\n",
        "\n",
        "        x = self.fc1(x)\n",
        "        x = self.fc2(x)\n",
        "        return torch.flatten(x)\n",
        "\n",
        "    def predict(self, x):\n",
        "        \"\"\"\n",
        "        Predict the regression label of the input vector.\n",
        "\n",
        "        Input:\n",
        "            x (float tensor N X d): input images\n",
        "        Output:\n",
        "            y (float tensor N x 1): regression output\n",
        "        \"\"\"\n",
        "        x = self.fc1(x)\n",
        "        x = self.fc2(x)\n",
        "        return torch.flatten(x)\n"
      ],
      "metadata": {
        "id": "vZSpFBJdj-Da"
      },
      "execution_count": null,
      "outputs": []
    },
    {
      "cell_type": "markdown",
      "source": [
        "## Problem 3\n",
        "\n",
        "Now you will define a 2 layer neural network with ReLU activation at the first layer. In other words:\n",
        "\n",
        "Let $x$ be the input.\n",
        "Then writing $z = Wx + c$, $h=$ReLU$(z)$ is the first layer's neurons. Then the output is $y = w\\cdot z+d$.\n",
        "\n",
        "Create this neural network using the torch.nn.Sequential command. Conceptually, it may help to realize that this neural network is: a fully connected layer followed by a ReLU, followed by a fully connected layer.\n",
        "\n",
        "Also see: https://pytorch.org/docs/stable/generated/torch.nn.ReLU.html\n",
        "\n",
        "Note: You have only one line to fill in here."
      ],
      "metadata": {
        "id": "pTKDb01ilnks"
      }
    },
    {
      "cell_type": "code",
      "source": [
        "class TwoLayerNonLinearRegressor(torch.nn.Module):\n",
        "    def __init__(self, input_dim, output_dim):\n",
        "        \"\"\"\n",
        "        Define a model that has a linear layer, a ReLU layer and another linear layer.\n",
        "        \"\"\"\n",
        "        super().__init__()\n",
        "        self.linear = torch.nn.Sequential(\n",
        "            torch.nn.Linear(input_dim, input_dim),  # Fully connected layer\n",
        "            torch.nn.ReLU(),                        # ReLU activation function\n",
        "            torch.nn.Linear(input_dim, output_dim)  # Fully connected layer\n",
        "        )\n",
        "\n",
        "    def forward(self, x):\n",
        "        \"\"\"\n",
        "        Calculate the regression score (MSE).\n",
        "\n",
        "        Input:\n",
        "            x (float tensor N x d): input rows\n",
        "        Output:\n",
        "            y (float tensor N x 1): regression output\n",
        "        \"\"\"\n",
        "        x = self.linear(x)\n",
        "        return torch.flatten(x)\n",
        "\n",
        "    def predict(self, x):\n",
        "        \"\"\"\n",
        "        Predict the regression label of the input vector.\n",
        "\n",
        "        Input:\n",
        "            x (float tensor N X d): input images\n",
        "        Output:\n",
        "            y (float tensor N x 1): regression output\n",
        "        \"\"\"\n",
        "        x = self.linear(x)\n",
        "        return torch.flatten(x)\n",
        "\n"
      ],
      "metadata": {
        "id": "031WUqCajrJ_"
      },
      "execution_count": null,
      "outputs": []
    },
    {
      "cell_type": "markdown",
      "source": [
        "## Problem 4\n",
        "\n",
        "Do this one more time, but now without torch.nn.Sequential.\n",
        "\n",
        "You have three lines to fill in here."
      ],
      "metadata": {
        "id": "ApkXVRwfmaXj"
      }
    },
    {
      "cell_type": "code",
      "source": [
        "# We now do this again, without using nn.sequential\n",
        "# in order to illustrate different syntax.\n",
        "\n",
        "class TwoLayerNonLinearRegressor2(torch.nn.Module):\n",
        "    def __init__(self, input_dim, output_dim):\n",
        "        \"\"\"\n",
        "        Define a model that has a linear layer, a ReLU layer and another linear layer.\n",
        "        \"\"\"\n",
        "        super().__init__()\n",
        "        self.fc1 = torch.nn.Linear(input_dim, input_dim)\n",
        "        self.relu = torch.nn.ReLU()\n",
        "        self.fc2 = torch.nn.Linear(input_dim, output_dim)\n",
        "\n",
        "    def forward(self, x):\n",
        "        \"\"\"\n",
        "        Calculate the regression score (MSE).\n",
        "\n",
        "        Input:\n",
        "            x (float tensor N x d): input rows\n",
        "        Output:\n",
        "            y (float tensor N x 1): regression output\n",
        "        \"\"\"\n",
        "\n",
        "        x = self.fc1(x)\n",
        "        x = self.relu(x)\n",
        "        x = self.fc2(x)\n",
        "        return torch.flatten(x)\n",
        "\n",
        "    def predict(self, x):\n",
        "        \"\"\"\n",
        "        Predict the regression label of the input vector.\n",
        "\n",
        "        Input:\n",
        "            x (float tensor N X d): input images\n",
        "        Output:\n",
        "            y (float tensor N x 1): regression output\n",
        "        \"\"\"\n",
        "        x = self.fc1(x)\n",
        "        x = self.relu(x)\n",
        "        x = self.fc2(x)\n",
        "        return torch.flatten(x)"
      ],
      "metadata": {
        "id": "W7CrOFr8jtdp"
      },
      "execution_count": null,
      "outputs": []
    },
    {
      "cell_type": "markdown",
      "source": [
        "## Problem 5 (Nothing to turn in)\n",
        "\n",
        "Read the documentation https://pytorch.org/docs/stable/optim.html to see what are the options pytorch provides for an optimizer, and what the parameters are."
      ],
      "metadata": {
        "id": "7-7v8qRLmk3b"
      }
    },
    {
      "cell_type": "code",
      "source": [
        "# Now we define a function for training\n",
        "# Note each of the arguments that it takes\n",
        "\n",
        "def train(model, data_train, data_val, device, lr=0.01, epochs=5000):\n",
        "    \"\"\"\n",
        "    Train the model.\n",
        "\n",
        "    Input:\n",
        "      model (torch.nn.Module): the model to train\n",
        "      data_train (torch.utils.data.Dataloader): yields batches of data\n",
        "      data_val (torch.utils.data.Dataloader): use this to validate your model\n",
        "      device (torch.device): which device to use to perform computation\n",
        "\n",
        "      (optional) lr: learning rate hyperparameter\n",
        "      (optional) epochs: number of passes over dataloader\n",
        "    \"\"\"\n",
        "\n",
        "    # Setup the loss function to use: mean squared error\n",
        "    loss_function = torch.nn.MSELoss(reduction = 'sum')\n",
        "\n",
        "    # Setup the optimizer -- just generic ADAM\n",
        "    optimizer = torch.optim.Adam(model.parameters(), lr=lr)\n",
        "\n",
        "    # Wrap in a progress bar.\n",
        "    for epoch in tqdm(range(epochs)):\n",
        "        # Set the model to training mode.\n",
        "        model.train()\n",
        "\n",
        "        for x, y in data_train:\n",
        "            x = x.to(device)  #Accounts for different Runtime Types (CPU, GPU, etc)\n",
        "            y = y.to(device)\n",
        "\n",
        "            # Forward pass through the network\n",
        "            output = model(x)  #Y-hat\n",
        "\n",
        "            # Compute loss\n",
        "            loss = loss_function(output, y)\n",
        "\n",
        "            # update model weights.\n",
        "            optimizer.zero_grad()\n",
        "            loss.backward()  #Backpropagation\n",
        "            optimizer.step()\n",
        "\n",
        "        # Set the model to eval mode and compute accuracy.\n",
        "        model.eval()\n",
        "\n",
        "        accuracys_val = list()\n",
        "\n",
        "        for x, y in data_val:\n",
        "            x = x.to(device)\n",
        "            y = y.to(device)\n",
        "\n",
        "            y_pred = model.predict(x)"
      ],
      "metadata": {
        "id": "-gYODAFizPe-"
      },
      "execution_count": null,
      "outputs": []
    },
    {
      "cell_type": "code",
      "source": [
        "# We write a function that takes a model, evaluate on the validation\n",
        "# data set and returns the predictions\n",
        "\n",
        "def evaluate_model(model,data_val,device):\n",
        "  model.eval()\n",
        "  output_vals = list()\n",
        "  accuracys_val = list()\n",
        "  for x, y in data_val:\n",
        "            x = x.to(device)\n",
        "            y = y.to(device)\n",
        "\n",
        "            y_pred = model.predict(x)\n",
        "            output_vals.append(y_pred)\n",
        "            # accuracy_val = (y_pred == y).float().mean().item()\n",
        "            # accuracys_val.append(accuracy_val)\n",
        "\n",
        "  # accuracy = torch.FloatTensor(accuracys_val).mean().item()\n",
        "  return output_vals"
      ],
      "metadata": {
        "id": "FObDOykPz16p"
      },
      "execution_count": null,
      "outputs": []
    },
    {
      "cell_type": "markdown",
      "source": [
        "## Problem 6 (Nothing to turn in)\n",
        "\n",
        "Read the documentation and try to understand what a dataloader is. You can start here https://pytorch.org/docs/stable/data.html but there are many tutorials out there as well."
      ],
      "metadata": {
        "id": "JtZYmSP5m7rT"
      }
    },
    {
      "cell_type": "code",
      "source": [
        "# Creating the data: Linear Regression on Linear Data\n",
        "from torch.utils.data import TensorDataset, DataLoader\n",
        "N = 15\n",
        "X = np.random.randn(N,3)\n",
        "beta = np.array([1,-1,2])\n",
        "Y = np.dot(X,beta)\n",
        "tensor_x = torch.Tensor(X) # transform to torch tensor\n",
        "tensor_y = torch.Tensor(Y)\n",
        "print('These are the labels:\\n',Y)\n",
        "print('These are the features:\\n',X)\n",
        "\n",
        "m = 1 # Batch size\n",
        "data = TensorDataset(tensor_x,tensor_y) # create your datset\n",
        "data_train = DataLoader(data,batch_size = m, shuffle = True) # create your dataloader with training data\n",
        "data_val = DataLoader(data) # create your dataloader with validation data, here same as training"
      ],
      "metadata": {
        "id": "qtVUvfryzIJC",
        "outputId": "f42b2141-a1dd-4688-a2b5-188ff853f66a",
        "colab": {
          "base_uri": "https://localhost:8080/"
        }
      },
      "execution_count": null,
      "outputs": [
        {
          "output_type": "stream",
          "name": "stdout",
          "text": [
            "These are the labels:\n",
            " [-1.2504305   6.27577367 -0.44169368 -2.44308188  1.43039731 -4.28231809\n",
            "  3.33663052 -0.36176532 -3.78979794 -1.92587168 -3.38452108 -0.08655314\n",
            "  4.20301849 -1.96161261  0.31953551]\n",
            "These are the features:\n",
            " [[-1.35625300e+00  1.52927732e+00  8.17549909e-01]\n",
            " [ 9.35691628e-01 -1.71371858e+00  1.81318173e+00]\n",
            " [ 4.52826564e-01 -2.75437633e+00 -1.82444829e+00]\n",
            " [ 1.17219332e-01 -1.29927713e+00 -1.92978917e+00]\n",
            " [-2.29630184e-03 -1.38490281e+00  2.38953973e-02]\n",
            " [ 5.39644422e-01 -4.09172551e-02 -2.43143988e+00]\n",
            " [ 1.28587243e+00  9.57412392e-01  1.50408524e+00]\n",
            " [ 5.18531347e-01  2.00760370e-01 -3.39768150e-01]\n",
            " [-8.31457504e-01 -9.08622938e-01 -1.93348169e+00]\n",
            " [ 2.41066234e+00  4.92331642e-01 -1.92210119e+00]\n",
            " [-1.11696289e+00 -2.32417590e-02 -1.14539997e+00]\n",
            " [-5.04364036e-01 -7.92200500e-01 -1.87194801e-01]\n",
            " [ 1.43210125e+00  2.00679845e-01  1.48579854e+00]\n",
            " [ 1.45168418e-01  2.81476979e-01 -9.12652023e-01]\n",
            " [-7.39809453e-01 -6.38792255e-01  2.10276352e-01]]\n"
          ]
        }
      ]
    },
    {
      "cell_type": "markdown",
      "source": [
        "## Now we train and evaluate the linear model."
      ],
      "metadata": {
        "id": "aFTIV3OcnKS8"
      }
    },
    {
      "cell_type": "code",
      "source": [
        "# Define the model we wish to use, and train it.\n",
        "device = torch.device('cuda' if torch.cuda.is_available() else 'cpu')\n",
        "\n",
        "model = LinearRegressor(3, 1)\n",
        "model.to(device)\n",
        "\n",
        "train(model, data_train, data_val, device)"
      ],
      "metadata": {
        "id": "BdXFWEN41NBt",
        "outputId": "7a5376e8-2cdd-4636-91f4-7b6219842d01",
        "colab": {
          "base_uri": "https://localhost:8080/",
          "height": 49,
          "referenced_widgets": [
            "6880b6ca04c446ac8d630f53b627bd22",
            "5c1045bbb1ff4f65b17d4b894f8fc48e",
            "6b13d32d794d4835b9dfc7ac7656338c",
            "f14f1c2fefdc48e2a2d3e5561b6b57ca",
            "b9ab02acad3c4e92aff690d72ca95b7b",
            "88094e52a0374927a657ee8a1d79df11",
            "d38a4ee364b84dd6b40c3bca5c1d6ea3",
            "1ea2aa2a5a1c4917ab9287a98f8c94c9",
            "fcf7b86ee5364fa388cd40db3e07f166",
            "ab5a74fdc1204ce7b56c5ea9a955b309",
            "e579d754b5ee4b1b8e7f7caca5aeab59"
          ]
        }
      },
      "execution_count": null,
      "outputs": [
        {
          "output_type": "display_data",
          "data": {
            "text/plain": [
              "  0%|          | 0/5000 [00:00<?, ?it/s]"
            ],
            "application/vnd.jupyter.widget-view+json": {
              "version_major": 2,
              "version_minor": 0,
              "model_id": "6880b6ca04c446ac8d630f53b627bd22"
            }
          },
          "metadata": {}
        }
      ]
    },
    {
      "cell_type": "markdown",
      "source": [
        "## Here is some code for getting the parameters of the model."
      ],
      "metadata": {
        "id": "sw--ClBtnYHV"
      }
    },
    {
      "cell_type": "code",
      "source": [
        "# Now let's get the model parameters.\n",
        "# We can see that we have succeeded in learning beta: [1,-1,2]\n",
        "for name, param in model.named_parameters():\n",
        "  print (name, param.data)\n",
        "\n",
        "# If we wanted to, we could also only print the ones that we update (may be useful for more complex models)\n",
        "\"\"\"\n",
        "for name, param in model.named_parameters():\n",
        "    if param.requires_grad:\n",
        "        print (name, param.data)\n",
        "\"\"\""
      ],
      "metadata": {
        "id": "5hfTNlIjTNCV",
        "outputId": "d77bd558-0312-4d95-92eb-38cd820962fa",
        "colab": {
          "base_uri": "https://localhost:8080/",
          "height": 70
        }
      },
      "execution_count": null,
      "outputs": [
        {
          "output_type": "stream",
          "name": "stdout",
          "text": [
            "linear.weight tensor([[ 1.0000, -1.0000,  2.0000]], device='cuda:0')\n",
            "linear.bias tensor([-5.8987e-08], device='cuda:0')\n"
          ]
        },
        {
          "output_type": "execute_result",
          "data": {
            "text/plain": [
              "'\\nfor name, param in model.named_parameters():\\n    if param.requires_grad:\\n        print (name, param.data)\\n'"
            ],
            "application/vnd.google.colaboratory.intrinsic+json": {
              "type": "string"
            }
          },
          "metadata": {},
          "execution_count": 11
        }
      ]
    },
    {
      "cell_type": "code",
      "source": [
        "# Now let's move to our second model: the two layer linear regressor.\n",
        "# We again define the model using the class we created.\n",
        "# Then we train the model, as above.\n",
        "\n",
        "device = torch.device('cuda' if torch.cuda.is_available() else 'cpu')\n",
        "\n",
        "model2 = TwoLayerLinearRegressor(3, 1)\n",
        "model2.to(device)\n",
        "\n",
        "train(model2, data_train, data_val, device)"
      ],
      "metadata": {
        "id": "DwrvHtgIFbfl",
        "outputId": "fd04e1b9-9af3-4912-b662-b5cf5d45939a",
        "colab": {
          "base_uri": "https://localhost:8080/",
          "height": 49,
          "referenced_widgets": [
            "4cf5fcce00334d1ebd2ea5dbff0df597",
            "bc103c1d09394ccfa2953291175530c3",
            "c2bb748bf4cb438bbd98aa7ba2af1db3",
            "debb9e2b05b041fd810806c54cffc149",
            "27eeaecb7631435a9fbe0e903f49680f",
            "17b0987b9404487786a4b2d93c7ad464",
            "6af4acd84b9b472cada5cb45c1ed3b88",
            "1076de72466c4d3ab739509538ae76cf",
            "1ca217a2d28e44518d8279d2c1311537",
            "4e0a8ee7e22446738795cc1f47d5fea0",
            "7f23f84772884eecad602cd6ee7dc478"
          ]
        }
      },
      "execution_count": null,
      "outputs": [
        {
          "output_type": "display_data",
          "data": {
            "text/plain": [
              "  0%|          | 0/5000 [00:00<?, ?it/s]"
            ],
            "application/vnd.jupyter.widget-view+json": {
              "version_major": 2,
              "version_minor": 0,
              "model_id": "4cf5fcce00334d1ebd2ea5dbff0df597"
            }
          },
          "metadata": {}
        }
      ]
    },
    {
      "cell_type": "code",
      "source": [
        "# Let's see how well this model agrees with the training data\n",
        "output_values = evaluate_model(model2,data_val,device)\n",
        "print('Ground Truth:\\n',Y)\n",
        "print('Model Output:\\n',output_values)"
      ],
      "metadata": {
        "id": "priZSqzc1wrW",
        "outputId": "8bc3258c-ebf7-4cfd-eea0-1177427edad5",
        "colab": {
          "base_uri": "https://localhost:8080/"
        }
      },
      "execution_count": null,
      "outputs": [
        {
          "output_type": "stream",
          "name": "stdout",
          "text": [
            "Ground Truth:\n",
            " [-1.2504305   6.27577367 -0.44169368 -2.44308188  1.43039731 -4.28231809\n",
            "  3.33663052 -0.36176532 -3.78979794 -1.92587168 -3.38452108 -0.08655314\n",
            "  4.20301849 -1.96161261  0.31953551]\n",
            "Model Output:\n",
            " [tensor([-1.1993], device='cuda:0', grad_fn=<ViewBackward0>), tensor([6.5999], device='cuda:0', grad_fn=<ViewBackward0>), tensor([-0.4043], device='cuda:0', grad_fn=<ViewBackward0>), tensor([-2.4821], device='cuda:0', grad_fn=<ViewBackward0>), tensor([1.5627], device='cuda:0', grad_fn=<ViewBackward0>), tensor([-4.4064], device='cuda:0', grad_fn=<ViewBackward0>), tensor([3.5334], device='cuda:0', grad_fn=<ViewBackward0>), tensor([-0.3134], device='cuda:0', grad_fn=<ViewBackward0>), tensor([-3.8674], device='cuda:0', grad_fn=<ViewBackward0>), tensor([-1.9830], device='cuda:0', grad_fn=<ViewBackward0>), tensor([-3.4360], device='cuda:0', grad_fn=<ViewBackward0>), tensor([-0.0086], device='cuda:0', grad_fn=<ViewBackward0>), tensor([4.4324], device='cuda:0', grad_fn=<ViewBackward0>), tensor([-1.9754], device='cuda:0', grad_fn=<ViewBackward0>), tensor([0.4204], device='cuda:0', grad_fn=<ViewBackward0>)]\n"
          ]
        }
      ]
    },
    {
      "cell_type": "markdown",
      "source": [
        "# The XOR Data Set\n",
        "We see that linear layers do not suffice."
      ],
      "metadata": {
        "id": "d-oOdWV8C8Nu"
      }
    },
    {
      "cell_type": "code",
      "source": [
        "\"\"\"\n",
        "Here we create the simple XOR data set an a numpy array.\n",
        "Then we make X and Y into tensor objects that torch uses,\n",
        "and we package it into a Dataset object called data.\n",
        "Then we create a DataLoader.\n",
        "\"\"\"\n",
        "\n",
        "Xxor = np.array([[0,0],[0,1],[1,0],[1,1]])\n",
        "Yxor = np.array([0,1,1,0])\n",
        "tensor_xxor = torch.Tensor(Xxor) # transform to torch tensor\n",
        "tensor_yxor = torch.Tensor(Yxor)\n",
        "print('These are the labels:\\n',Yxor)\n",
        "print('These are the features:\\n',Xxor)\n",
        "\n",
        "dataxor = TensorDataset(tensor_xxor,tensor_yxor) # create your datset\n",
        "dataxor_train = DataLoader(dataxor) # create your dataloader with training data\n",
        "dataxor_val = DataLoader(dataxor) # create your dataloader with validation data, here same as training"
      ],
      "metadata": {
        "id": "8Qk0d0DUzt1d",
        "outputId": "28b13c2f-a8f6-4f5d-e067-51675a199c91",
        "colab": {
          "base_uri": "https://localhost:8080/"
        }
      },
      "execution_count": null,
      "outputs": [
        {
          "output_type": "stream",
          "name": "stdout",
          "text": [
            "These are the labels:\n",
            " [0 1 1 0]\n",
            "These are the features:\n",
            " [[0 0]\n",
            " [0 1]\n",
            " [1 0]\n",
            " [1 1]]\n"
          ]
        }
      ]
    },
    {
      "cell_type": "markdown",
      "source": [
        "## Problem 7\n",
        "\n",
        "Train your linear regressor on these data. Now see how well you do, by evaluating your solution on the training data. Remember the values we got in class.\n",
        "\n",
        "Your output here should be predicted values for each of the 4 points in our XOR data set."
      ],
      "metadata": {
        "id": "CZngJgatnmr2"
      }
    },
    {
      "cell_type": "code",
      "source": [
        "# Now we train a linear classifier on these data.\n",
        "# We know (and can verify) that this will fail because no linear classifier can succeed\n",
        "\n",
        "device = torch.device('cuda' if torch.cuda.is_available() else 'cpu')\n",
        "\n",
        "model3 = LinearRegressor(2, 1)\n",
        "model3.to(device)\n",
        "\n",
        "train(model3, dataxor_train, dataxor_val, device)\n",
        "\n",
        "output_values = evaluate_model(model3,dataxor_val,device)\n",
        "print('Ground Truth:\\n',Yxor)\n",
        "print('Model Output:\\n',output_values)"
      ],
      "metadata": {
        "id": "8KJ5-QW8-q1I",
        "colab": {
          "base_uri": "https://localhost:8080/",
          "height": 138,
          "referenced_widgets": [
            "c39bad8a03bc4840bd9f0e4a7d2400b1",
            "e770c1b043e3488b977daf02a70dd10b",
            "9c771590b1294aa682177d6159835363",
            "d2ad3e015cf64b40ac57e91ad68f7cd2",
            "c14496728d5c4d0887e7ecd629a138bb",
            "2f3d91ffaa1c4228869218df99d50f78",
            "4dd820fad7554decbf900064c6e27b7a",
            "f304115b3bf44c45a921fb3a98a655a9",
            "8789e42f15834748a57bd12cb258c40f",
            "f5b90d78823c47318ba4f6f739d18805",
            "ce449c4352bd4e04b72e58245e6d2f82"
          ]
        },
        "outputId": "39e683c5-1883-462a-b133-c122a988eee9"
      },
      "execution_count": null,
      "outputs": [
        {
          "output_type": "display_data",
          "data": {
            "text/plain": [
              "  0%|          | 0/5000 [00:00<?, ?it/s]"
            ],
            "application/vnd.jupyter.widget-view+json": {
              "version_major": 2,
              "version_minor": 0,
              "model_id": "c39bad8a03bc4840bd9f0e4a7d2400b1"
            }
          },
          "metadata": {}
        },
        {
          "output_type": "stream",
          "name": "stdout",
          "text": [
            "Ground Truth:\n",
            " [0 1 1 0]\n",
            "Model Output:\n",
            " [tensor([0.5012], device='cuda:0', grad_fn=<ViewBackward0>), tensor([0.5006], device='cuda:0', grad_fn=<ViewBackward0>), tensor([0.5005], device='cuda:0', grad_fn=<ViewBackward0>), tensor([0.4999], device='cuda:0', grad_fn=<ViewBackward0>)]\n"
          ]
        }
      ]
    },
    {
      "cell_type": "markdown",
      "source": [
        "## Problem 8\n",
        "\n",
        "Now repeat this, but using both versions of your non-linear two-layer model. Thus: train both versions of your non-linear two layer models, and evaluate them on the data.  \n",
        "\n",
        "If you did this correctly, the values you compute should equal (approximately) the values of the XOR function."
      ],
      "metadata": {
        "id": "mE5JK2I9n9qC"
      }
    },
    {
      "cell_type": "code",
      "source": [
        "device = torch.device('cuda' if torch.cuda.is_available() else 'cpu')\n",
        "\n",
        "model4 = TwoLayerNonLinearRegressor(2, 1)\n",
        "model4.to(device)\n",
        "\n",
        "train(model4, dataxor_train, dataxor_val, device)\n",
        "\n",
        "# Evaluate the non linear classifier on the training data\n",
        "output_values_classifier_4 = evaluate_model(model4, dataxor_train, device)\n",
        "\n",
        "print(\"Ground Truth:\", Yxor)\n",
        "print(\"Predictions:\", output_values_classifier_4)"
      ],
      "metadata": {
        "id": "bVddE7dR7qSx",
        "outputId": "28c28802-0203-48ee-89ed-5640a6088ccc",
        "colab": {
          "base_uri": "https://localhost:8080/",
          "height": 104,
          "referenced_widgets": [
            "52d77696d2fb43348167fa9cf7cc42a3",
            "1ff7e1b879694055accdf13f95f0c243",
            "f3be4963f3224043a71203ad75545749",
            "1b89b0ce31a64346809ddcdbdb3086cf",
            "c9df210840214ff2aa9948b1287c5840",
            "9bce0384a9c448fd98f18bb43617446b",
            "b802696696c8467199c4aa9a09aa864a",
            "d916a5b5496c471994643410a63483ba",
            "267b3b3f5caa44d3b20702baef785f70",
            "e31352480a824f9da0411edf821458ff",
            "e6542c21066e4955add81890f73b1694"
          ]
        }
      },
      "execution_count": null,
      "outputs": [
        {
          "output_type": "display_data",
          "data": {
            "text/plain": [
              "  0%|          | 0/5000 [00:00<?, ?it/s]"
            ],
            "application/vnd.jupyter.widget-view+json": {
              "version_major": 2,
              "version_minor": 0,
              "model_id": "52d77696d2fb43348167fa9cf7cc42a3"
            }
          },
          "metadata": {}
        },
        {
          "output_type": "stream",
          "name": "stdout",
          "text": [
            "Ground Truth: [0 1 1 0]\n",
            "Predictions: [tensor([0.], device='cuda:0', grad_fn=<ViewBackward0>), tensor([1.], device='cuda:0', grad_fn=<ViewBackward0>), tensor([1.], device='cuda:0', grad_fn=<ViewBackward0>), tensor([0.], device='cuda:0', grad_fn=<ViewBackward0>)]\n"
          ]
        }
      ]
    },
    {
      "cell_type": "code",
      "source": [
        "device = torch.device('cuda' if torch.cuda.is_available() else 'cpu')\n",
        "\n",
        "model5 = TwoLayerNonLinearRegressor2(2, 1)\n",
        "model5.to(device)\n",
        "\n",
        "train(model5, dataxor_train, dataxor_val, device)\n",
        "\n",
        "# Evaluate the non linear classifier on the training data\n",
        "output_values_classifier_5 = evaluate_model(model5, dataxor_train, device)\n",
        "\n",
        "print(\"Ground Truth:\", Yxor)\n",
        "print(\"Predictions:\", output_values_classifier_5)"
      ],
      "metadata": {
        "colab": {
          "base_uri": "https://localhost:8080/",
          "height": 104,
          "referenced_widgets": [
            "01d2ebe05b4047eeaf9b31076d32124f",
            "4a0beccfcce545c8b2d9b93db26085a7",
            "87d65b74feba4588a5f517b872f6ad29",
            "45eca1dcd71b473f96b5c0248b050609",
            "dbe9f5f1f042421eb4a85a91b4cf47cf",
            "ad2971783e094c9dab12d8db603f6067",
            "f84411664dda4fd1a76870ec205a7e1e",
            "3c3017dffa29401bab7e79846ce2d9ef",
            "aa8fde8b632e403ab51f6c0d16904518",
            "b56a3a0697424e7ab27caabcace46c5d",
            "182138032fb44047b345d39e2c511851"
          ]
        },
        "id": "hpMqSWkqqXpL",
        "outputId": "aae8b0b8-e0a1-43de-9c51-e10f99763c7a"
      },
      "execution_count": null,
      "outputs": [
        {
          "output_type": "display_data",
          "data": {
            "text/plain": [
              "  0%|          | 0/5000 [00:00<?, ?it/s]"
            ],
            "application/vnd.jupyter.widget-view+json": {
              "version_major": 2,
              "version_minor": 0,
              "model_id": "01d2ebe05b4047eeaf9b31076d32124f"
            }
          },
          "metadata": {}
        },
        {
          "output_type": "stream",
          "name": "stdout",
          "text": [
            "Ground Truth: [0 1 1 0]\n",
            "Predictions: [tensor([0.], device='cuda:0', grad_fn=<ViewBackward0>), tensor([1.], device='cuda:0', grad_fn=<ViewBackward0>), tensor([1.], device='cuda:0', grad_fn=<ViewBackward0>), tensor([0.], device='cuda:0', grad_fn=<ViewBackward0>)]\n"
          ]
        }
      ]
    },
    {
      "cell_type": "markdown",
      "source": [
        "## Problem 9\n",
        "\n",
        "Print the parameters of one of your non-linear models. Thus, you should print: 4 weights plus 2 bias values for the first layer, and then 2 weights plus 1 bias value for the second: 9 parameters in total."
      ],
      "metadata": {
        "id": "NPRZcvQbpL6K"
      }
    },
    {
      "cell_type": "code",
      "source": [
        "chosen_model = model4\n",
        "\n",
        "# Print the parameters of the chosen model\n",
        "print(\"Model Parameters:\")\n",
        "for name, param in chosen_model.named_parameters():\n",
        "    print(name, param.data)"
      ],
      "metadata": {
        "id": "6MUeytiR8UJB",
        "outputId": "a1cac292-569c-45f3-ddb9-a213554f2f5e",
        "colab": {
          "base_uri": "https://localhost:8080/"
        }
      },
      "execution_count": null,
      "outputs": [
        {
          "output_type": "stream",
          "name": "stdout",
          "text": [
            "Model Parameters:\n",
            "linear.0.weight tensor([[ 1.6468, -1.8955],\n",
            "        [-1.1806,  1.1806]], device='cuda:0')\n",
            "linear.0.bias tensor([-0.0835,  0.2228], device='cuda:0')\n",
            "linear.2.weight tensor([[0.7604, 0.8470]], device='cuda:0')\n",
            "linear.2.bias tensor([-0.1887], device='cuda:0')\n"
          ]
        }
      ]
    }
  ]
}